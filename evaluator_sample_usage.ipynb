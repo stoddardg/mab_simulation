{
 "cells": [
  {
   "cell_type": "code",
   "execution_count": 1,
   "metadata": {
    "collapsed": true
   },
   "outputs": [],
   "source": [
    "import numpy as np\n",
    "\n",
    "import bandits\n",
    "import simulation\n",
    "\n",
    "from evaluation import evaluate_bandit"
   ]
  },
  {
   "cell_type": "code",
   "execution_count": 6,
   "metadata": {
    "collapsed": false
   },
   "outputs": [
    {
     "name": "stdout",
     "output_type": "stream",
     "text": [
      "mean performance: 1878.7\n"
     ]
    }
   ],
   "source": [
    "reward_list = []\n",
    "for i in np.arange(10):\n",
    "    mab = bandits.EGreedyMAB()\n",
    "    sim = simulation.SimpleSimulator(10, .5, .1)\n",
    "\n",
    "    total_reward, t = evaluate_bandit(sim, mab,10000)\n",
    "    reward_list.append(total_reward)\n",
    "    \n",
    "print 'mean performance:', np.mean(reward_list)\n"
   ]
  },
  {
   "cell_type": "code",
   "execution_count": null,
   "metadata": {
    "collapsed": true
   },
   "outputs": [],
   "source": []
  }
 ],
 "metadata": {
  "kernelspec": {
   "display_name": "Python 2",
   "language": "python",
   "name": "python2"
  },
  "language_info": {
   "codemirror_mode": {
    "name": "ipython",
    "version": 2
   },
   "file_extension": ".py",
   "mimetype": "text/x-python",
   "name": "python",
   "nbconvert_exporter": "python",
   "pygments_lexer": "ipython2",
   "version": "2.7.11"
  }
 },
 "nbformat": 4,
 "nbformat_minor": 0
}
