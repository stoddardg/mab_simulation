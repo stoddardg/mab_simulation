{
 "cells": [
  {
   "cell_type": "code",
   "execution_count": 9,
   "metadata": {
    "collapsed": true
   },
   "outputs": [],
   "source": [
    "import numpy as np\n",
    "\n",
    "import bandits\n",
    "import simulation\n",
    "\n",
    "from evaluation import evaluate_bandit\n",
    "\n",
    "import matplotlib.pyplot as plt\n",
    "%matplotlib inline"
   ]
  },
  {
   "cell_type": "code",
   "execution_count": 34,
   "metadata": {
    "collapsed": false
   },
   "outputs": [
    {
     "data": {
      "text/plain": [
       "<module 'simulation' from 'simulation.pyc'>"
      ]
     },
     "execution_count": 34,
     "metadata": {},
     "output_type": "execute_result"
    }
   ],
   "source": [
    "reload(simulation)"
   ]
  },
  {
   "cell_type": "code",
   "execution_count": 40,
   "metadata": {
    "collapsed": false
   },
   "outputs": [
    {
     "name": "stdout",
     "output_type": "stream",
     "text": [
      "hi\n",
      "e_greedy 19.0\n",
      "beta_strong_prior 25.0\n",
      "beta_weak_prior 20.0\n",
      "hi\n",
      "e_greedy 18.0\n",
      "beta_strong_prior 22.0\n",
      "beta_weak_prior 15.0\n",
      "hi\n",
      "e_greedy 24.0\n",
      "beta_strong_prior 23.0\n",
      "beta_weak_prior 20.0\n",
      "hi\n",
      "e_greedy 13.0\n",
      "beta_strong_prior 25.0\n",
      "beta_weak_prior 16.0\n",
      "hi\n",
      "e_greedy 15.0\n",
      "beta_strong_prior 16.0\n",
      "beta_weak_prior 22.0\n"
     ]
    }
   ],
   "source": [
    "mab_reward = {}\n",
    "for k in np.arange(5):\n",
    "    mab_dict = {}\n",
    "\n",
    "    mab_dict['beta_strong_prior'] = bandits.BetaBandit( prior=(10,10) )\n",
    "    mab_dict['beta_weak_prior'] = bandits.BetaBandit( prior=(1,1) )\n",
    "    mab_dict['e_greedy'] = bandits.EGreedyMAB()\n",
    "\n",
    "\n",
    "    sim = simulation.SimpleSimulator(10,  .5,.1)\n",
    "\n",
    "    T = 100\n",
    "    for mab_name in mab_dict:\n",
    "        mab = mab_dict[mab_name]\n",
    "        total_reward, t = evaluate_bandit(sim, mab, T)\n",
    "\n",
    "        mab_reward[mab_name] = mab_reward.get(mab_name,0) + total_reward\n",
    "        print mab_name, total_reward\n"
   ]
  },
  {
   "cell_type": "code",
   "execution_count": 41,
   "metadata": {
    "collapsed": false
   },
   "outputs": [
    {
     "data": {
      "text/plain": [
       "{'beta_strong_prior': 111.0, 'beta_weak_prior': 93.0, 'e_greedy': 89.0}"
      ]
     },
     "execution_count": 41,
     "metadata": {},
     "output_type": "execute_result"
    }
   ],
   "source": [
    "mab_reward"
   ]
  },
  {
   "cell_type": "code",
   "execution_count": 19,
   "metadata": {
    "collapsed": false
   },
   "outputs": [
    {
     "name": "stdout",
     "output_type": "stream",
     "text": [
      "mean performance: 1897.19\n"
     ]
    }
   ],
   "source": [
    "reward_list = []\n",
    "for i in np.arange(100):\n",
    "    mab = bandits.EGreedyMAB()\n",
    "    sim = simulation.SimpleSimulator(10, .5, .1)\n",
    "\n",
    "    total_reward, t = evaluate_bandit(sim, mab,10000)\n",
    "\n",
    "    \n",
    "    \n",
    "    reward_list.append(total_reward)\n",
    "    \n",
    "print 'mean performance:', np.mean(reward_list)\n"
   ]
  },
  {
   "cell_type": "code",
   "execution_count": 20,
   "metadata": {
    "collapsed": false
   },
   "outputs": [
    {
     "data": {
      "text/plain": [
       "(array([  2.,   2.,   5.,   6.,  11.,  15.,  17.,  29.,   8.,   5.]),\n",
       " array([ 1674. ,  1710.5,  1747. ,  1783.5,  1820. ,  1856.5,  1893. ,\n",
       "         1929.5,  1966. ,  2002.5,  2039. ]),\n",
       " <a list of 10 Patch objects>)"
      ]
     },
     "execution_count": 20,
     "metadata": {},
     "output_type": "execute_result"
    },
    {
     "data": {
      "image/png": "[encoded data removed]",
      "text/plain": [
       "<matplotlib.figure.Figure at 0x110ec5d10>"
      ]
     },
     "metadata": {},
     "output_type": "display_data"
    }
   ],
   "source": [
    "plt.hist(reward_list)"
   ]
  },
  {
   "cell_type": "code",
   "execution_count": 18,
   "metadata": {
    "collapsed": false
   },
   "outputs": [
    {
     "data": {
      "text/plain": [
       "[1933.0,\n",
       " 1888.0,\n",
       " 1908.0,\n",
       " 1758.0,\n",
       " 1806.0,\n",
       " 1746.0,\n",
       " 1864.0,\n",
       " 1977.0,\n",
       " 1816.0,\n",
       " 1917.0]"
      ]
     },
     "execution_count": 18,
     "metadata": {},
     "output_type": "execute_result"
    }
   ],
   "source": [
    "reward_list"
   ]
  },
  {
   "cell_type": "code",
   "execution_count": null,
   "metadata": {
    "collapsed": true
   },
   "outputs": [],
   "source": [
    "simulation._scale()"
   ]
  }
 ],
 "metadata": {
  "kernelspec": {
   "display_name": "Python 2",
   "language": "python",
   "name": "python2"
  },
  "language_info": {
   "codemirror_mode": {
    "name": "ipython",
    "version": 2
   },
   "file_extension": ".py",
   "mimetype": "text/x-python",
   "name": "python",
   "nbconvert_exporter": "python",
   "pygments_lexer": "ipython2",
   "version": "2.7.11"
  }
 },
 "nbformat": 4,
 "nbformat_minor": 0
}
