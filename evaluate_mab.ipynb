{
 "cells": [
  {
   "cell_type": "code",
   "execution_count": 1,
   "metadata": {
    "collapsed": true
   },
   "outputs": [],
   "source": [
    "import numpy as np\n",
    "import scipy.stats\n",
    "\n",
    "import matplotlib.pyplot as plt\n",
    "\n",
    "import seaborn\n",
    "%matplotlib inline\n",
    "\n",
    "from tqdm import tqdm"
   ]
  },
  {
   "cell_type": "code",
   "execution_count": 2,
   "metadata": {
    "collapsed": false
   },
   "outputs": [],
   "source": [
    "class EGreedyMAB:\n",
    "    \n",
    "    def __init__(self, epsilon=.1):\n",
    "        self.arm_feedback = {}\n",
    "        self.arm_plays = {}\n",
    "        self.arm_mean_payoff = {}\n",
    "        self.epsilon = epsilon\n",
    "        \n",
    "        \n",
    "    def get_decision(self,arm_id_list, arm_feature_list):\n",
    "        np.random.shuffle(arm_id_list)\n",
    "        current_averages = {id: self.arm_mean_payoff.get(id,100) for id in arm_id_list}\n",
    "        \n",
    "        if np.random.rand() < self.epsilon:\n",
    "            return np.random.choice(arm_id_list)\n",
    "        else:\n",
    "            return max(current_averages, key=current_averages.get)\n",
    "    \n",
    "    def update(self, arm_id, reward):\n",
    "        self.arm_feedback[arm_id] = self.arm_feedback.get(arm_id,0) + reward\n",
    "        self.arm_plays[arm_id] = self.arm_plays.get(arm_id,0) + 1.0\n",
    "        self.arm_mean_payoff[arm_id] = self.arm_feedback[arm_id] / self.arm_plays[arm_id]"
   ]
  },
  {
   "cell_type": "code",
   "execution_count": 3,
   "metadata": {
    "collapsed": false
   },
   "outputs": [],
   "source": [
    "from numpy import *\n",
    "from scipy.stats import beta\n",
    "\n",
    "class BetaBandit(object):\n",
    "    def __init__(self, num_options=2, prior =(1,1)):\n",
    "        self.arm_plays = {}\n",
    "        self.successes = {}\n",
    "        self.num_options = num_options\n",
    "        self.prior = prior\n",
    "    \n",
    "    def update(self, arm_id, success):\n",
    "        self.arm_plays[arm_id] = self.arm_plays.get(arm_id, 0) + 1\n",
    "        if (success==1):\n",
    "            self.successes[arm_id] = self.successes.get(arm_id, 0)+1\n",
    "     \n",
    "    def get_decision(self,arm_id_list,arm_feature_list):\n",
    "        sampled_theta = []\n",
    "        for i in arm_id_list:\n",
    "            dist = beta(self.prior[0]+self.successes.get(i, 0),\n",
    "                       self.prior[1]+self.arm_plays.get(i,0)-self.successes.get(i,0))\n",
    "            sampled_theta += [dist.rvs()]\n",
    "        return sampled_theta.index(max(sampled_theta))   \n",
    "        "
   ]
  },
  {
   "cell_type": "code",
   "execution_count": 4,
   "metadata": {
    "collapsed": true
   },
   "outputs": [],
   "source": [
    "import sys\n",
    "# Scales the arm_probs to all be between 0 and 1.\n",
    "# The highest pre-scaled value is assigned a value of 1.\n",
    "# Probs is a dictionary\n",
    "def scale(probs, lower_bound, upper_bound):\n",
    "    # min_int\n",
    "    biggest = - sys.maxint - 1\n",
    "    interval = upper_bound - lower_bound\n",
    "    \n",
    "    for i in range(len(probs)): \n",
    "        if abs(probs[i]) > biggest:\n",
    "            biggest = abs(probs[i])\n",
    "    biggest = biggest * 2 / interval\n",
    "    for i in range(len(probs)):\n",
    "        probs[i] = probs[i]/biggest + (.5*(upper_bound + lower_bound))\n",
    "    \n",
    "    return probs\n",
    "    "
   ]
  },
  {
   "cell_type": "code",
   "execution_count": 6,
   "metadata": {
    "collapsed": true
   },
   "outputs": [],
   "source": [
    "class UCB():\n",
    "    def __init__(self):\n",
    "        self.arm_plays = {}\n",
    "        self.arm_rewards = {}\n",
    "        self.total_plays = 1\n",
    "    \n",
    "    def get_decision(self,arm_id_list,arm_feature_list):\n",
    "        ucb_values = {}\n",
    "        for arm in arm_id_list:\n",
    "            bonus = math.sqrt((2*math.log(self.total_plays))/float(self.arm_plays.get(arm, 1)))\n",
    "            ucb_values[arm] = (self.arm_rewards.get(arm, 0)/self.arm_plays.get(arm, 1)) + bonus\n",
    "        return max(ucb_values, key=ucb_values.get)\n",
    "    \n",
    "    def update(self, arm_id, reward):\n",
    "        self.total_plays += 1\n",
    "        \n",
    "        self.arm_plays[arm_id] = 1 + self.arm_plays.get(arm_id,0)\n",
    "        self.arm_rewards[arm_id] = reward + self.arm_rewards.get(arm_id, 0)\n",
    "        "
   ]
  },
  {
   "cell_type": "code",
   "execution_count": 9,
   "metadata": {
    "collapsed": false
   },
   "outputs": [],
   "source": [
    "import numpy as np\n",
    "\n",
    "class SimpleSimulator:\n",
    "    \n",
    "    def __init__(self,n_arms,loc_value, scale_value):\n",
    "        self.arm_probs = {}\n",
    "        temp_val_list = []\n",
    "        scaled_vals = []\n",
    "        for i in range(0, n_arms):\n",
    "            temp_val = np.random.normal(loc=loc_value, scale = scale_value)\n",
    "            temp_val_list.append(temp_val)\n",
    "        scaled_vals = scale(temp_val_list, lower_bound=0, upper_bound=.2)\n",
    "        for i in range(0,n_arms):\n",
    "            self.arm_probs[i] = scaled_vals[i]\n",
    "    \n",
    "    def get_available_arms(self):\n",
    "        return self.arm_probs.keys(), []\n",
    "    \n",
    "    def get_reward(self, arm_id):\n",
    "        return scipy.stats.bernoulli.rvs(self.arm_probs.get(arm_id,0))\n",
    "    "
   ]
  },
  {
   "cell_type": "code",
   "execution_count": 10,
   "metadata": {
    "collapsed": false
   },
   "outputs": [],
   "source": [
    "s1 = SimpleSimulator(10,4,2)\n",
    "s2 = SimpleSimulator(5,3, 4)"
   ]
  },
  {
   "cell_type": "code",
   "execution_count": 11,
   "metadata": {
    "collapsed": false
   },
   "outputs": [
    {
     "data": {
      "text/plain": [
       "{0: 0.1397868529363728,\n",
       " 1: 0.11647386518479819,\n",
       " 2: 0.15839366997082815,\n",
       " 3: 0.17674404834227356,\n",
       " 4: 0.2,\n",
       " 5: 0.19208314038152058,\n",
       " 6: 0.13265684316219328,\n",
       " 7: 0.1166895748421845,\n",
       " 8: 0.14810552909650762,\n",
       " 9: 0.11816004217393042}"
      ]
     },
     "execution_count": 11,
     "metadata": {},
     "output_type": "execute_result"
    }
   ],
   "source": [
    "s1.arm_probs"
   ]
  },
  {
   "cell_type": "code",
   "execution_count": 12,
   "metadata": {
    "collapsed": false
   },
   "outputs": [
    {
     "data": {
      "text/plain": [
       "{0: 0.11416328113367188,\n",
       " 1: 0.2,\n",
       " 2: 0.17830050318236504,\n",
       " 3: 0.16865057522851917,\n",
       " 4: 0.16563222053361049}"
      ]
     },
     "execution_count": 12,
     "metadata": {},
     "output_type": "execute_result"
    }
   ],
   "source": [
    "s2.arm_probs"
   ]
  },
  {
   "cell_type": "code",
   "execution_count": 13,
   "metadata": {
    "collapsed": false
   },
   "outputs": [
    {
     "name": "stderr",
     "output_type": "stream",
     "text": [
      "100%|██████████| 50000/50000 [12:51<00:00, 64.80it/s] "
     ]
    },
    {
     "name": "stdout",
     "output_type": "stream",
     "text": [
      "total_reward 10036\n",
      "average_reward 0.20072\n",
      "total_reward 8724\n",
      "average_reward 0.17448\n",
      "total_reward 8791\n",
      "average_reward 0.17582\n",
      "best possible 0.2\n"
     ]
    },
    {
     "name": "stderr",
     "output_type": "stream",
     "text": [
      "\n"
     ]
    }
   ],
   "source": [
    "TIME_STEPS = 50000\n",
    "N_ARMS = 10\n",
    "# Arms, Mean, Standard Deviation\n",
    "sim = SimpleSimulator(N_ARMS, .5, .1)\n",
    "\n",
    "mab = EGreedyMAB()\n",
    "reward_list = []\n",
    "played = [[0 for i in range(N_ARMS)] for i in range(3)]\n",
    "\n",
    "sim = SimpleSimulator(N_ARMS, .5, .1)\n",
    "\n",
    "mab_3 = UCB()\n",
    "reward_list_3 = []\n",
    "\n",
    "mab_2 = BetaBandit()\n",
    "reward_list_2 = []\n",
    "\n",
    "mab_1 = EGreedyMAB()\n",
    "reward_list_1 = []\n",
    "\n",
    "reward_list_of_lists = [reward_list_1, reward_list_2, reward_list_3]\n",
    "mab_list_of_mabs = [mab_1, mab_2, mab_3]\n",
    "\n",
    "for t in tqdm(np.arange(TIME_STEPS)):\n",
    "    arms, arm_features = sim.get_available_arms()\n",
    "\n",
    "    for i in range(len(mab_list_of_mabs)):\n",
    "        mab = mab_list_of_mabs[i]\n",
    "        reward_list = reward_list_of_lists[i]\n",
    "        arm_to_play = mab.get_decision(arms, arm_features)\n",
    "\n",
    "        played[i][arm_to_play] += 1\n",
    "        \n",
    "        reward = sim.get_reward(arm_to_play)\n",
    "        mab.update(arm_to_play, reward)\n",
    "        reward_list.append(reward)\n",
    "    \n",
    "    #for reward_list in reward_list_of_lists:\n",
    "       # reward_list.append(reward)\n",
    "        \n",
    "for reward in reward_list_of_lists:\n",
    "    print 'total_reward', np.sum(reward)\n",
    "    print 'average_reward', np.mean(reward)\n",
    "\n",
    "\n",
    "max_payoff = max(sim.arm_probs.values())\n",
    "print 'best possible', max_payoff \n",
    "\n"
   ]
  },
  {
   "cell_type": "code",
   "execution_count": 14,
   "metadata": {
    "collapsed": false
   },
   "outputs": [
    {
     "data": {
      "text/plain": [
       "<matplotlib.text.Text at 0x1192f5f50>"
      ]
     },
     "execution_count": 14,
     "metadata": {},
     "output_type": "execute_result"
    },
    {
     "data": {
      "image/png": "[encoded data removed]",
      "text/plain": [
       "<matplotlib.figure.Figure at 0x1035b6110>"
      ]
     },
     "metadata": {},
     "output_type": "display_data"
    }
   ],
   "source": [
    "max_payoff = max(sim.arm_probs.values())\n",
    "\n",
    "plt.plot(np.arange(len(reward_list_1)), np.cumsum(reward_list_1)/np.arange(1,TIME_STEPS+1.0), label = 'EGreedy')\n",
    "\n",
    "plt.plot(np.arange(len(reward_list_2)), np.cumsum(reward_list_2)/np.arange(1,TIME_STEPS+1.0), label='Beta Bandit')\n",
    "\n",
    "plt.plot(np.arange(len(reward_list_3)), np.cumsum(reward_list_3)/np.arange(1,TIME_STEPS+1.0), label = 'UCB')\n",
    "\n",
    "plt.plot(np.arange(TIME_STEPS), np.cumsum([max_payoff]*TIME_STEPS)/ np.arange(1,TIME_STEPS+1.0), label='OPT', ls='--')\n",
    "\n",
    "plt.legend(loc='lower right')\n",
    "\n",
    "plt.xlabel(\"Time Step\", fontsize=14)\n",
    "\n",
    "plt.ylabel(\"Cumulative Reward\", fontsize=14)\n"
   ]
  },
  {
   "cell_type": "code",
   "execution_count": 15,
   "metadata": {
    "collapsed": false
   },
   "outputs": [
    {
     "data": {
      "text/plain": [
       "0.4060952789517659"
      ]
     },
     "execution_count": 15,
     "metadata": {},
     "output_type": "execute_result"
    }
   ],
   "source": [
    "np.random.rand()"
   ]
  },
  {
   "cell_type": "code",
   "execution_count": 16,
   "metadata": {
    "collapsed": false
   },
   "outputs": [],
   "source": [
    "#plt.hist(sim.arm_probs.values(), 200,None)"
   ]
  },
  {
   "cell_type": "code",
   "execution_count": 17,
   "metadata": {
    "collapsed": false,
    "scrolled": true
   },
   "outputs": [
    {
     "name": "stdout",
     "output_type": "stream",
     "text": [
      "[1128, 489, 638, 790, 686, 517, 698, 521, 504, 44029]\n",
      "[5105, 4976, 5012, 4962, 5007, 5053, 4920, 5069, 4922, 4974]\n",
      "[5000, 5000, 5000, 5000, 5000, 5000, 5000, 5000, 5000, 5000]\n"
     ]
    },
    {
     "data": {
      "image/png": "[encoded data removed]",
      "text/plain": [
       "<matplotlib.figure.Figure at 0x118e67e90>"
      ]
     },
     "metadata": {},
     "output_type": "display_data"
    }
   ],
   "source": [
    "x = range(N_ARMS)\n",
    "y = played[0]\n",
    "plt.plot(x,y)\n",
    "for p in played:\n",
    "    print p"
   ]
  },
  {
   "cell_type": "code",
   "execution_count": null,
   "metadata": {
    "collapsed": true
   },
   "outputs": [],
   "source": []
  },
  {
   "cell_type": "code",
   "execution_count": null,
   "metadata": {
    "collapsed": true
   },
   "outputs": [],
   "source": []
  },
  {
   "cell_type": "code",
   "execution_count": null,
   "metadata": {
    "collapsed": true
   },
   "outputs": [],
   "source": []
  }
 ],
 "metadata": {
  "kernelspec": {
   "display_name": "Python 2",
   "language": "python",
   "name": "python2"
  },
  "language_info": {
   "codemirror_mode": {
    "name": "ipython",
    "version": 2
   },
   "file_extension": ".py",
   "mimetype": "text/x-python",
   "name": "python",
   "nbconvert_exporter": "python",
   "pygments_lexer": "ipython2",
   "version": "2.7.11"
  }
 },
 "nbformat": 4,
 "nbformat_minor": 0
}
