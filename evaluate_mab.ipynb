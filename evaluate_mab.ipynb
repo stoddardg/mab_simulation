{
 "cells": [
  {
   "cell_type": "code",
   "execution_count": 7,
   "metadata": {
    "collapsed": false
   },
   "outputs": [],
   "source": [
    "import numpy as np\n",
    "import scipy.stats\n",
    "\n",
    "import matplotlib.pyplot as plt\n",
    "\n",
    "import seaborn\n",
    "%matplotlib inline\n",
    "\n",
    "from tqdm import tqdm"
   ]
  },
  {
   "cell_type": "code",
   "execution_count": 3,
   "metadata": {
    "collapsed": false
   },
   "outputs": [],
   "source": [
    "class EGreedyMAB:\n",
    "    \n",
    "    def __init__(self, epsilon=.1):\n",
    "        self.arm_feedback = {}\n",
    "        self.arm_plays = {}\n",
    "        self.arm_mean_payoff = {}\n",
    "        self.epsilon = epsilon\n",
    "        \n",
    "        \n",
    "    def get_decision(self,arm_id_list, arm_feature_list):\n",
    "        np.random.shuffle(arm_id_list)\n",
    "        current_averages = {id: self.arm_mean_payoff.get(id,100) for id in arm_id_list}\n",
    "        \n",
    "        if np.random.rand() < self.epsilon:\n",
    "            return np.random.choice(arm_id_list)\n",
    "        else:\n",
    "            return max(current_averages, key=current_averages.get)\n",
    "    \n",
    "    def update(self, arm_id, reward):\n",
    "        self.arm_feedback[arm_id] = self.arm_feedback.get(arm_id,0) + reward\n",
    "        self.arm_plays[arm_id] = self.arm_plays.get(arm_id,0) + 1.0\n",
    "        self.arm_mean_payoff[arm_id] = self.arm_feedback[arm_id] / self.arm_plays[arm_id]"
   ]
  },
  {
   "cell_type": "code",
   "execution_count": 4,
   "metadata": {
    "collapsed": true
   },
   "outputs": [],
   "source": [
    "class SimpleSimulator:\n",
    "    \n",
    "    def __init__(self,n_arms):\n",
    "        self.arm_probs = {}\n",
    "        for i in np.arange(n_arms):\n",
    "            self.arm_probs[i] = scipy.stats.uniform.rvs(0,.2)\n",
    "    \n",
    "    def get_available_arms(self):\n",
    "        return self.arm_probs.keys(), []\n",
    "    \n",
    "    def get_reward(self, arm_id):\n",
    "        return scipy.stats.bernoulli.rvs(self.arm_probs.get(arm_id,0)   )\n",
    "    "
   ]
  },
  {
   "cell_type": "code",
   "execution_count": 8,
   "metadata": {
    "collapsed": false
   },
   "outputs": [
    {
     "name": "stderr",
     "output_type": "stream",
     "text": [
      "100%|██████████| 50000/50000 [00:21<00:00, 2292.89it/s]"
     ]
    },
    {
     "name": "stdout",
     "output_type": "stream",
     "text": [
      "total_reward 8822\n"
     ]
    },
    {
     "name": "stderr",
     "output_type": "stream",
     "text": [
      "\n"
     ]
    }
   ],
   "source": [
    "TIME_STEPS = 50000\n",
    "N_ARMS = 500\n",
    "sim = SimpleSimulator(N_ARMS)\n",
    "\n",
    "mab = EGreedyMAB()\n",
    "reward_list = []\n",
    "for t in tqdm(np.arange(TIME_STEPS)):\n",
    "    arms, arm_features = sim.get_available_arms()\n",
    "    arm_to_play = mab.get_decision(arms, arm_features)\n",
    "    \n",
    "    reward = sim.get_reward(arm_to_play)\n",
    "    mab.update(arm_to_play, reward)\n",
    "    \n",
    "    reward_list.append(reward)\n",
    "\n",
    "    \n",
    "\n",
    "print 'total_reward', np.sum(reward_list)"
   ]
  },
  {
   "cell_type": "code",
   "execution_count": 9,
   "metadata": {
    "collapsed": false
   },
   "outputs": [
    {
     "data": {
      "text/plain": [
       "<matplotlib.text.Text at 0x10ff89d90>"
      ]
     },
     "execution_count": 9,
     "metadata": {},
     "output_type": "execute_result"
    },
    {
     "data": {
      "image/png": "[encoded data removed]",
      "text/plain": [
       "<matplotlib.figure.Figure at 0x10fe95f10>"
      ]
     },
     "metadata": {},
     "output_type": "display_data"
    }
   ],
   "source": [
    "max_payoff = max(sim.arm_probs.values())\n",
    "\n",
    "plt.plot(np.arange(len(reward_list)), np.cumsum(reward_list), label='MAB')\n",
    "\n",
    "plt.plot(np.arange(TIME_STEPS), np.cumsum([max_payoff]*TIME_STEPS), label='OPT', ls='--')\n",
    "\n",
    "plt.legend(loc='lower right')\n",
    "\n",
    "plt.xlabel(\"Time Step\", fontsize=14)\n",
    "\n",
    "plt.ylabel(\"Cumulative Reward\", fontsize=14)"
   ]
  },
  {
   "cell_type": "code",
   "execution_count": 53,
   "metadata": {
    "collapsed": false
   },
   "outputs": [
    {
     "data": {
      "text/plain": [
       "0.7050949256753315"
      ]
     },
     "execution_count": 53,
     "metadata": {},
     "output_type": "execute_result"
    }
   ],
   "source": [
    "np.random.rand()"
   ]
  },
  {
   "cell_type": "code",
   "execution_count": null,
   "metadata": {
    "collapsed": true
   },
   "outputs": [],
   "source": []
  }
 ],
 "metadata": {
  "kernelspec": {
   "display_name": "Python 2",
   "language": "python",
   "name": "python2"
  }
 },
 "nbformat": 4,
 "nbformat_minor": 0
}
