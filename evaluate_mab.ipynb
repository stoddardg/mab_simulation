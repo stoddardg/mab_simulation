{
 "cells": [
  {
   "cell_type": "code",
   "execution_count": 26,
   "metadata": {
    "collapsed": false
   },
   "outputs": [],
   "source": [
    "import numpy as np\n",
    "import scipy.stats\n",
    "\n",
    "import matplotlib.pyplot as plt\n",
    "\n",
    "import seaborn\n",
    "%matplotlib inline\n",
    "\n",
    "from tqdm import tqdm"
   ]
  },
  {
   "cell_type": "code",
   "execution_count": 27,
   "metadata": {
    "collapsed": false
   },
   "outputs": [],
   "source": [
    "class EGreedyMAB:\n",
    "    \n",
    "    def __init__(self, epsilon=.1):\n",
    "        self.arm_feedback = {}\n",
    "        self.arm_plays = {}\n",
    "        self.arm_mean_payoff = {}\n",
    "        self.epsilon = epsilon\n",
    "        \n",
    "        \n",
    "    def get_decision(self,arm_id_list, arm_feature_list):\n",
    "        np.random.shuffle(arm_id_list)\n",
    "        current_averages = {id: self.arm_mean_payoff.get(id,100) for id in arm_id_list}\n",
    "        \n",
    "        if np.random.rand() < self.epsilon:\n",
    "            return np.random.choice(arm_id_list)\n",
    "        else:\n",
    "            return max(current_averages, key=current_averages.get)\n",
    "    \n",
    "    def update(self, arm_id, reward):\n",
    "        self.arm_feedback[arm_id] = self.arm_feedback.get(arm_id,0) + reward\n",
    "        self.arm_plays[arm_id] = self.arm_plays.get(arm_id,0) + 1.0\n",
    "        self.arm_mean_payoff[arm_id] = self.arm_feedback[arm_id] / self.arm_plays[arm_id]"
   ]
  },
  {
   "cell_type": "code",
   "execution_count": 28,
   "metadata": {
    "collapsed": false
   },
   "outputs": [],
   "source": [
    "from numpy import *\n",
    "from scipy.stats import beta\n",
    "\n",
    "class BetaBandit(object):\n",
    "    def __init__(self, num_options=2 , prior =(1,1)):\n",
    "        self.trials = zeros(shape =(num_options,), dtype=int)\n",
    "        self.successes = zeros(shape=(num_options,), dtype = int)\n",
    "        self.num_options = num_options\n",
    "        self.prior = prior\n",
    "    \n",
    "    def add_result(self, trial_id, sucess):\n",
    "        self.trials[trial_id]=self.trials[trial.id]+1\n",
    "        if (success):\n",
    "            self.successes[trial_id]=self.successes[trial_id]+1\n",
    "     \n",
    "    def get_recommendation(self):\n",
    "        sampled_theta = []\n",
    "        for i in range(self.num_options):\n",
    "            dist = beta(self.prior[0]+self.successes[i],\n",
    "                       self.prior[1]+self.trials[i]-self.successes[i])\n",
    "            sampled_theta += [dist.rvs()]\n",
    "        return sampled_theta.index(max(sampled_theta))   \n",
    "        "
   ]
  },
  {
   "cell_type": "code",
   "execution_count": 29,
   "metadata": {
    "collapsed": false
   },
   "outputs": [],
   "source": [
    "import numpy as np\n",
    "\n",
    "class SimpleSimulator:\n",
    "    \n",
    "    def __init__(self,n_arms,loc_value, scale_value):\n",
    "        self.arm_probs = {}\n",
    "        for i in range(0, n_arms):\n",
    "            self.arm_probs[i] = np.random.normal(loc=loc_value, scale = scale_value, size = None)\n",
    "    \n",
    "    def get_available_arms(self):\n",
    "        return self.arm_probs.keys(), []\n",
    "    \n",
    "    def get_reward(self, arm_id):\n",
    "        return scipy.stats.bernoulli.rvs(self.arm_probs.get(arm_id,0)   )\n",
    "    "
   ]
  },
  {
   "cell_type": "code",
   "execution_count": 30,
   "metadata": {
    "collapsed": false
   },
   "outputs": [],
   "source": [
    "s1 = SimpleSimulator(10,4,2)\n",
    "s2 = SimpleSimulator(5,3, 4)"
   ]
  },
  {
   "cell_type": "code",
   "execution_count": 31,
   "metadata": {
    "collapsed": false
   },
   "outputs": [
    {
     "data": {
      "text/plain": [
       "{0: 0.8969123251297213,\n",
       " 1: 3.187761754139817,\n",
       " 2: 5.590476073393909,\n",
       " 3: 4.923619209561719,\n",
       " 4: 5.046525444504034,\n",
       " 5: 3.9793065957176745,\n",
       " 6: 5.3064542988774965,\n",
       " 7: 2.724810764618386,\n",
       " 8: 6.102445580232123,\n",
       " 9: -0.06578528950000351}"
      ]
     },
     "execution_count": 31,
     "metadata": {},
     "output_type": "execute_result"
    }
   ],
   "source": [
    "s1.arm_probs"
   ]
  },
  {
   "cell_type": "code",
   "execution_count": 32,
   "metadata": {
    "collapsed": false
   },
   "outputs": [
    {
     "data": {
      "text/plain": [
       "{0: -3.4481049942629474,\n",
       " 1: 6.956927325620036,\n",
       " 2: -0.7776807081609372,\n",
       " 3: 11.76512152381367,\n",
       " 4: 2.138708620064106}"
      ]
     },
     "execution_count": 32,
     "metadata": {},
     "output_type": "execute_result"
    }
   ],
   "source": [
    "s2.arm_probs"
   ]
  },
  {
   "cell_type": "code",
   "execution_count": 33,
   "metadata": {
    "collapsed": false
   },
   "outputs": [
    {
     "name": "stderr",
     "output_type": "stream",
     "text": [
      "100%|██████████| 50000/50000 [00:11<00:00, 4403.46it/s]"
     ]
    },
    {
     "name": "stdout",
     "output_type": "stream",
     "text": [
      "total_reward 36387\n",
      "average_reward 0.72774\n",
      "best possible 0.83378198802\n"
     ]
    },
    {
     "name": "stderr",
     "output_type": "stream",
     "text": [
      "\n"
     ]
    }
   ],
   "source": [
    "TIME_STEPS = 50000\n",
    "N_ARMS = 500\n",
    "# Arms, Mean, Standard Deviation\n",
    "sim = SimpleSimulator(N_ARMS, .5, .1)\n",
    "\n",
    "mab = EGreedyMAB()\n",
    "reward_list = []\n",
    "played = [0 for i in range(N_ARMS)]\n",
    "\n",
    "for t in tqdm(np.arange(TIME_STEPS)):\n",
    "    arms, arm_features = sim.get_available_arms()\n",
    "    arm_to_play = mab.get_decision(arms, arm_features)\n",
    "    \n",
    "    played[arm_to_play] += 1\n",
    "     \n",
    "    reward = sim.get_reward(arm_to_play)\n",
    "    mab.update(arm_to_play, reward)\n",
    "    \n",
    "    reward_list.append(reward)\n",
    "\n",
    "    \n",
    "\n",
    "print 'total_reward', np.sum(reward_list)\n",
    "print 'average_reward', np.mean(reward_list)\n",
    "\n",
    "\n",
    "max_payoff = max(sim.arm_probs.values())\n",
    "print 'best possible', max_payoff \n"
   ]
  },
  {
   "cell_type": "code",
   "execution_count": 34,
   "metadata": {
    "collapsed": false
   },
   "outputs": [
    {
     "data": {
      "text/plain": [
       "<matplotlib.text.Text at 0x10ce14c90>"
      ]
     },
     "execution_count": 34,
     "metadata": {},
     "output_type": "execute_result"
    },
    {
     "data": {
      "image/png": "[encoded data removed]",
      "text/plain": [
       "<matplotlib.figure.Figure at 0x1186e1a10>"
      ]
     },
     "metadata": {},
     "output_type": "display_data"
    }
   ],
   "source": [
    "max_payoff = max(sim.arm_probs.values())\n",
    "\n",
    "plt.plot(np.arange(len(reward_list)), np.cumsum(reward_list), label='MAB')\n",
    "\n",
    "plt.plot(np.arange(TIME_STEPS), np.cumsum([max_payoff]*TIME_STEPS), label='OPT', ls='--')\n",
    "\n",
    "plt.legend(loc='lower right')\n",
    "\n",
    "plt.xlabel(\"Time Step\", fontsize=14)\n",
    "\n",
    "plt.ylabel(\"Cumulative Reward\", fontsize=14)\n"
   ]
  },
  {
   "cell_type": "code",
   "execution_count": 35,
   "metadata": {
    "collapsed": false
   },
   "outputs": [
    {
     "data": {
      "text/plain": [
       "0.01942418840334692"
      ]
     },
     "execution_count": 35,
     "metadata": {},
     "output_type": "execute_result"
    }
   ],
   "source": [
    "np.random.rand()"
   ]
  },
  {
   "cell_type": "code",
   "execution_count": 36,
   "metadata": {
    "collapsed": false
   },
   "outputs": [],
   "source": [
    "#plt.hist(sim.arm_probs.values(), 200,None)"
   ]
  },
  {
   "cell_type": "code",
   "execution_count": 37,
   "metadata": {
    "collapsed": false,
    "scrolled": true
   },
   "outputs": [
    {
     "name": "stdout",
     "output_type": "stream",
     "text": [
      "48 -> 43238\n"
     ]
    },
    {
     "data": {
      "image/png": "[encoded data removed]",
      "text/plain": [
       "<matplotlib.figure.Figure at 0x1186ba910>"
      ]
     },
     "metadata": {},
     "output_type": "display_data"
    }
   ],
   "source": [
    "x = range(N_ARMS)\n",
    "y = played\n",
    "plt.plot(x,y)\n",
    "#print played\n",
    "big = max(played) \n",
    "print played.index(big), \"->\", big"
   ]
  },
  {
   "cell_type": "code",
   "execution_count": null,
   "metadata": {
    "collapsed": true
   },
   "outputs": [],
   "source": []
  },
  {
   "cell_type": "code",
   "execution_count": null,
   "metadata": {
    "collapsed": true
   },
   "outputs": [],
   "source": []
  },
  {
   "cell_type": "code",
   "execution_count": null,
   "metadata": {
    "collapsed": true
   },
   "outputs": [],
   "source": []
  }
 ],
 "metadata": {
  "kernelspec": {
   "display_name": "Python 2",
   "language": "python",
   "name": "python2"
  },
  "language_info": {
   "codemirror_mode": {
    "name": "ipython",
    "version": 2
   },
   "file_extension": ".py",
   "mimetype": "text/x-python",
   "name": "python",
   "nbconvert_exporter": "python",
   "pygments_lexer": "ipython2",
   "version": "2.7.11"
  }
 },
 "nbformat": 4,
 "nbformat_minor": 0
}
