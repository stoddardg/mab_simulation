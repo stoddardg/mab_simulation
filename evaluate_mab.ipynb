{
 "cells": [
  {
   "cell_type": "code",
   "execution_count": 5,
   "metadata": {
    "collapsed": false
   },
   "outputs": [],
   "source": [
    "import numpy as np\n",
    "import scipy.stats\n",
    "\n",
    "import matplotlib.pyplot as plt\n",
    "\n",
    "import seaborn\n",
    "%matplotlib inline\n",
    "\n",
    "from tqdm import tqdm\n",
    "\n",
    "import bandits\n",
    "import simulation\n",
    "from evaluation import evaluate_bandit"
   ]
  },
  {
   "cell_type": "code",
   "execution_count": 150,
   "metadata": {
    "collapsed": false
   },
   "outputs": [
    {
     "name": "stdout",
     "output_type": "stream",
     "text": [
      "[[ 0.29308009  0.70691991]\n",
      " [ 0.90591639  0.09408361]\n",
      " [ 0.99554826  0.00445174]]\n"
     ]
    }
   ],
   "source": [
    "import sklearn\n",
    "from sklearn.linear_model import LogisticRegression\n",
    "\n",
    "X = np.arange(15, dtype=np.float).reshape(3,5)\n",
    "y = np.array([1,0,0]).astype(np.float)\n",
    "clf = LogisticRegression()\n",
    "clf.fit(X, y)\n",
    "print clf.predict_proba(X)\n",
    "\n",
    "# Values is a dictionary with whatever values we have data for among x_1, x_2... x_n, some x_i may not be defined\n",
    "# Fill will assign a value of -9 for any undefined x_i\n",
    "def fill(values, no_features):\n",
    "    for i in range(no_features):\n",
    "        if i in values:\n",
    "            continue\n",
    "        else:\n",
    "            values[i] = -9"
   ]
  },
  {
   "cell_type": "code",
   "execution_count": 6,
   "metadata": {
    "collapsed": false
   },
   "outputs": [],
   "source": [
    "import numpy as np\n",
    "from scipy.stats import beta\n",
    "\n",
    "class SimpleSimulator:\n",
    "\n",
    "    def __init__(self, n_arms, prior=(.5, .5)):\n",
    "        self.arm_probs = {}\n",
    "        temp_val_list = []\n",
    "        self.n_arms = n_arms\n",
    "        self.prior = prior\n",
    "        for i in range (0, n_arms):\n",
    "            temp_val = beta(self.prior[0], self.prior[1]).rvs()\n",
    "            temp_val_list.append(temp_val)\n",
    "        for i in range (0, n_arms):\n",
    "            self.arm_probs[i] = temp_val_list[i]\n",
    "    \n",
    "    def get_available_arms(self):\n",
    "        return self.arm_probs.keys(), []\n",
    "    \n",
    "    def get_reward(self, arm_id, n_pulls=1):\n",
    "        reward_list = scipy.stats.bernoulli.rvs(self.arm_probs.get(arm_id, 0), size=n_pulls)\n",
    "        return reward_list\n",
    "    "
   ]
  },
  {
   "cell_type": "code",
   "execution_count": 7,
   "metadata": {
    "collapsed": false
   },
   "outputs": [
    {
     "data": {
      "text/plain": [
       "<module 'bandits' from 'bandits.pyc'>"
      ]
     },
     "execution_count": 7,
     "metadata": {},
     "output_type": "execute_result"
    }
   ],
   "source": [
    "reload(bandits)"
   ]
  },
  {
   "cell_type": "code",
   "execution_count": 5,
   "metadata": {
    "collapsed": false
   },
   "outputs": [],
   "source": [
    "import bandits\n",
    "\n",
    "test = bandits.BetaBandit()"
   ]
  },
  {
   "cell_type": "code",
   "execution_count": 8,
   "metadata": {
    "collapsed": false
   },
   "outputs": [
    {
     "name": "stdout",
     "output_type": "stream",
     "text": [
      "{'Beta_pessimistic_strong': [88.400000000000006], 'Beta_neutral_strong_prior': [98.400000000000006], 'Beta_optimistic_strong': [99.599999999999994], 'Beta_pessimistic_weak': [99.200000000000003], 'EGreedy': [97.400000000000006], 'Beta_optimistic_weak': [99.200000000000003], 'Beta_neutral_weak_prior': [99.200000000000003]}\n",
      "{'Beta_pessimistic_strong': [88.0, 180.0, 272.0, 357.0, 442.0], 'Beta_neutral_strong_prior': [92.0, 192.0, 292.0, 392.0, 492.0], 'Beta_optimistic_strong': [98.0, 198.0, 298.0, 398.0, 498.0], 'Beta_pessimistic_weak': [96.0, 196.0, 296.0, 396.0, 496.0], 'EGreedy': [95.0, 195.0, 293.0, 392.0, 487.0], 'Beta_optimistic_weak': [96.0, 196.0, 296.0, 396.0, 496.0], 'Beta_neutral_weak_prior': [96.0, 196.0, 296.0, 396.0, 496.0]}\n"
     ]
    }
   ],
   "source": [
    "TIME_STEPS = 10000\n",
    "N_ARMS = 10\n",
    "# Arms, Prior = (alpha, beta)\n",
    "sim = SimpleSimulator(N_ARMS, (1,1))\n",
    "\n",
    "mab_dict = {}\n",
    "\n",
    "mab_dict['EGreedy'] = bandits.EGreedyMAB()\n",
    "mab_dict['Beta_neutral_strong_prior'] = bandits.BetaBandit(2, (10,10))\n",
    "mab_dict['Beta_neutral_weak_prior'] = bandits.BetaBandit(2, (1,1))\n",
    "mab_dict['Beta_optimistic_strong'] = bandits.BetaBandit(2, (15, 5))\n",
    "mab_dict['Beta_optimistic_weak'] = bandits.BetaBandit(2,(.2, .1))\n",
    "mab_dict['Beta_pessimistic_weak'] = bandits.BetaBandit(2,(.1, .2))\n",
    "mab_dict['Beta_pessimistic_strong'] = bandits.BetaBandit(2,(5, 15))\n",
    "\n",
    "results_dict = {k:0 for k in mab_dict}\n",
    "\n",
    "mab_reward = {}\n",
    "results_dict = {}\n",
    "TRIALS = 5\n",
    "names_of_priors = ['EGreedy', 'Beta_neutral_strong_prior','Beta_neutral_weak_prior','Beta_optimistic_strong', \n",
    "                   'Beta_optimistic_weak', 'Beta_pessimistic_weak','Beta_pessimistic_strong']\n",
    "accumulated_reward = {names_of_priors[i]: [] for i in range(len(names_of_priors))}\n",
    "avg_accumulated_reward = {names_of_priors[i]: [] for i in range(len(names_of_priors))}\n",
    "\n",
    "\n",
    "for mab_name in mab_dict:\n",
    "    T = 100\n",
    "    total_reward = 0\n",
    "    for i in np.arange(TRIALS):\n",
    "        mab = mab_dict[mab_name]\n",
    "        current_reward, t = evaluate_bandit(sim, mab, T)\n",
    "        total_reward += current_reward\n",
    "        accumulated_reward[mab_name].append(total_reward)\n",
    "    avg_accumulated_reward[mab_name].append(total_reward/TRIALS)\n",
    "print avg_accumulated_reward\n",
    "print accumulated_reward\n",
    "    \n"
   ]
  },
  {
   "cell_type": "code",
   "execution_count": 49,
   "metadata": {
    "collapsed": false
   },
   "outputs": [],
   "source": [
    "#max_payoff = max(sim.arm_probs.values())\n",
    "#print 'best possible', max_payoff\n",
    "\n"
   ]
  },
  {
   "cell_type": "markdown",
   "metadata": {},
   "source": [
    "plot accumulated reward/time (so graph looks like a log)\n",
    "divide accumulatd reward at each time step by time step"
   ]
  },
  {
   "cell_type": "code",
   "execution_count": 14,
   "metadata": {
    "collapsed": false
   },
   "outputs": [
    {
     "data": {
      "text/plain": [
       "[88.0, 180.0, 272.0, 357.0, 442.0]"
      ]
     },
     "execution_count": 14,
     "metadata": {},
     "output_type": "execute_result"
    }
   ],
   "source": [
    "accumulated_reward[name]"
   ]
  },
  {
   "cell_type": "code",
   "execution_count": 17,
   "metadata": {
    "collapsed": false
   },
   "outputs": [
    {
     "data": {
      "text/plain": [
       "array([   88.,   268.,   540.,   897.,  1339.])"
      ]
     },
     "execution_count": 17,
     "metadata": {},
     "output_type": "execute_result"
    }
   ],
   "source": [
    "np.cumsum(accumulated_reward[name])"
   ]
  },
  {
   "cell_type": "code",
   "execution_count": 19,
   "metadata": {
    "collapsed": false
   },
   "outputs": [
    {
     "data": {
      "text/plain": [
       "10000"
      ]
     },
     "execution_count": 19,
     "metadata": {},
     "output_type": "execute_result"
    }
   ],
   "source": [
    "len(np.arange(1, TIME_STEPS+1.0))\n"
   ]
  },
  {
   "cell_type": "code",
   "execution_count": 16,
   "metadata": {
    "collapsed": false
   },
   "outputs": [
    {
     "ename": "ValueError",
     "evalue": "operands could not be broadcast together with shapes (5,) (10000,) ",
     "output_type": "error",
     "traceback": [
      "\u001b[0;31m---------------------------------------------------------------------------\u001b[0m",
      "\u001b[0;31mValueError\u001b[0m                                Traceback (most recent call last)",
      "\u001b[0;32m<ipython-input-16-a1d22b6eb3a3>\u001b[0m in \u001b[0;36m<module>\u001b[0;34m()\u001b[0m\n\u001b[0;32m----> 1\u001b[0;31m \u001b[0my_vals\u001b[0m \u001b[0;34m=\u001b[0m \u001b[0mnp\u001b[0m\u001b[0;34m.\u001b[0m\u001b[0mcumsum\u001b[0m\u001b[0;34m(\u001b[0m\u001b[0maccumulated_reward\u001b[0m\u001b[0;34m[\u001b[0m\u001b[0mname\u001b[0m\u001b[0;34m]\u001b[0m\u001b[0;34m)\u001b[0m\u001b[0;34m/\u001b[0m\u001b[0mnp\u001b[0m\u001b[0;34m.\u001b[0m\u001b[0marange\u001b[0m\u001b[0;34m(\u001b[0m\u001b[0;36m1\u001b[0m\u001b[0;34m,\u001b[0m \u001b[0mTIME_STEPS\u001b[0m\u001b[0;34m+\u001b[0m\u001b[0;36m1.0\u001b[0m\u001b[0;34m)\u001b[0m\u001b[0;34m\u001b[0m\u001b[0m\n\u001b[0m",
      "\u001b[0;31mValueError\u001b[0m: operands could not be broadcast together with shapes (5,) (10000,) "
     ]
    }
   ],
   "source": [
    "np.cumsum(accumulated_reward[name])   / np.arange(1, TIME_STEPS+1.0)\n"
   ]
  },
  {
   "cell_type": "code",
   "execution_count": 12,
   "metadata": {
    "collapsed": false
   },
   "outputs": [
    {
     "ename": "ValueError",
     "evalue": "operands could not be broadcast together with shapes (5,) (10000,) ",
     "output_type": "error",
     "traceback": [
      "\u001b[0;31m---------------------------------------------------------------------------\u001b[0m",
      "\u001b[0;31mValueError\u001b[0m                                Traceback (most recent call last)",
      "\u001b[0;32m<ipython-input-12-176f303e26c8>\u001b[0m in \u001b[0;36m<module>\u001b[0;34m()\u001b[0m\n\u001b[1;32m      4\u001b[0m \u001b[0;32mfor\u001b[0m \u001b[0mname\u001b[0m \u001b[0;32min\u001b[0m \u001b[0maccumulated_reward\u001b[0m\u001b[0;34m:\u001b[0m\u001b[0;34m\u001b[0m\u001b[0m\n\u001b[1;32m      5\u001b[0m     \u001b[0mx_vals\u001b[0m \u001b[0;34m=\u001b[0m \u001b[0mnp\u001b[0m\u001b[0;34m.\u001b[0m\u001b[0marange\u001b[0m\u001b[0;34m(\u001b[0m\u001b[0mlen\u001b[0m\u001b[0;34m(\u001b[0m\u001b[0maccumulated_reward\u001b[0m\u001b[0;34m[\u001b[0m\u001b[0mname\u001b[0m\u001b[0;34m]\u001b[0m\u001b[0;34m)\u001b[0m\u001b[0;34m+\u001b[0m\u001b[0;36m1\u001b[0m\u001b[0;34m)\u001b[0m\u001b[0;34m\u001b[0m\u001b[0m\n\u001b[0;32m----> 6\u001b[0;31m     \u001b[0my_vals\u001b[0m \u001b[0;34m=\u001b[0m \u001b[0mnp\u001b[0m\u001b[0;34m.\u001b[0m\u001b[0marange\u001b[0m\u001b[0;34m(\u001b[0m\u001b[0mnp\u001b[0m\u001b[0;34m.\u001b[0m\u001b[0mcumsum\u001b[0m\u001b[0;34m(\u001b[0m\u001b[0maccumulated_reward\u001b[0m\u001b[0;34m[\u001b[0m\u001b[0mname\u001b[0m\u001b[0;34m]\u001b[0m\u001b[0;34m/\u001b[0m\u001b[0mnp\u001b[0m\u001b[0;34m.\u001b[0m\u001b[0marange\u001b[0m\u001b[0;34m(\u001b[0m\u001b[0;36m1\u001b[0m\u001b[0;34m,\u001b[0m \u001b[0mTIME_STEPS\u001b[0m\u001b[0;34m+\u001b[0m\u001b[0;36m1.0\u001b[0m\u001b[0;34m)\u001b[0m\u001b[0;34m)\u001b[0m\u001b[0;34m)\u001b[0m\u001b[0;34m\u001b[0m\u001b[0m\n\u001b[0m\u001b[1;32m      7\u001b[0m     \u001b[0mlabel\u001b[0m \u001b[0;34m=\u001b[0m \u001b[0maccumulated_reward\u001b[0m\u001b[0;34m[\u001b[0m\u001b[0mname\u001b[0m\u001b[0;34m]\u001b[0m\u001b[0;34m\u001b[0m\u001b[0m\n\u001b[1;32m      8\u001b[0m     \u001b[0mplt\u001b[0m\u001b[0;34m.\u001b[0m\u001b[0mplot\u001b[0m\u001b[0;34m(\u001b[0m\u001b[0mx_vals\u001b[0m\u001b[0;34m,\u001b[0m \u001b[0my_vals\u001b[0m\u001b[0;34m,\u001b[0m \u001b[0mlabel\u001b[0m \u001b[0;34m=\u001b[0m \u001b[0mlabel\u001b[0m\u001b[0;34m,\u001b[0m \u001b[0mloc\u001b[0m \u001b[0;34m=\u001b[0m \u001b[0;34m'lower right'\u001b[0m\u001b[0;34m)\u001b[0m\u001b[0;34m\u001b[0m\u001b[0m\n",
      "\u001b[0;31mValueError\u001b[0m: operands could not be broadcast together with shapes (5,) (10000,) "
     ]
    }
   ],
   "source": [
    "max_payoff = max(sim.arm_probs.values())\n",
    "import matplotlib.pyplot as plt\n",
    "\n",
    "for name in accumulated_reward:\n",
    "    x_vals = np.arange(len(accumulated_reward[name])+1)\n",
    "    y_vals = np.arange(np.cumsum(accumulated_reward[name]/np.arange(1, TIME_STEPS+1.0)))\n",
    "    label = accumulated_reward[name]\n",
    "    plt.plot(x_vals, y_vals, label = label, loc = 'lower right')\n",
    "    #plt.xlabel(\"Time Step\", fontsize=14)\n",
    "\n",
    "    #plt.ylabel(\"Cumulative Reward\", fontsize=14)\n"
   ]
  },
  {
   "cell_type": "code",
   "execution_count": null,
   "metadata": {
    "collapsed": false
   },
   "outputs": [],
   "source": [
    "np.random.rand()"
   ]
  },
  {
   "cell_type": "code",
   "execution_count": 140,
   "metadata": {
    "collapsed": false
   },
   "outputs": [
    {
     "data": {
      "text/plain": [
       "(array([ 1.,  0.,  0.,  0.,  0.,  0.,  0.,  0.,  0.,  0.,  0.,  0.,  0.,\n",
       "         0.,  0.,  0.,  0.,  0.,  0.,  0.,  0.,  0.,  0.,  0.,  0.,  0.,\n",
       "         0.,  0.,  0.,  0.,  0.,  0.,  0.,  0.,  0.,  0.,  0.,  0.,  0.,\n",
       "         0.,  0.,  0.,  0.,  0.,  0.,  0.,  0.,  0.,  0.,  0.,  0.,  0.,\n",
       "         0.,  0.,  0.,  0.,  0.,  0.,  0.,  0.,  0.,  0.,  0.,  0.,  0.,\n",
       "         0.,  0.,  0.,  0.,  0.,  0.,  0.,  0.,  0.,  0.,  0.,  0.,  0.,\n",
       "         0.,  0.,  0.,  0.,  0.,  0.,  0.,  0.,  0.,  0.,  0.,  0.,  0.,\n",
       "         0.,  0.,  0.,  0.,  0.,  0.,  0.,  0.,  0.,  0.,  0.,  0.,  0.,\n",
       "         0.,  0.,  0.,  0.,  0.,  0.,  0.,  0.,  0.,  0.,  0.,  0.,  0.,\n",
       "         0.,  0.,  0.,  0.,  0.,  0.,  1.,  0.,  0.,  0.,  0.,  0.,  0.,\n",
       "         0.,  0.,  0.,  0.,  0.,  0.,  0.,  0.,  0.,  0.,  0.,  0.,  0.,\n",
       "         0.,  0.,  0.,  0.,  0.,  0.,  0.,  0.,  0.,  0.,  0.,  1.,  0.,\n",
       "         0.,  0.,  0.,  0.,  0.,  0.,  0.,  0.,  0.,  0.,  0.,  0.,  0.,\n",
       "         0.,  0.,  0.,  0.,  0.,  0.,  0.,  0.,  0.,  0.,  0.,  0.,  0.,\n",
       "         0.,  0.,  0.,  0.,  0.,  0.,  0.,  0.,  0.,  0.,  0.,  0.,  0.,\n",
       "         0.,  1.,  1.,  0.,  5.]),\n",
       " array([ 0.37573131,  0.37885265,  0.38197399,  0.38509534,  0.38821668,\n",
       "         0.39133802,  0.39445937,  0.39758071,  0.40070206,  0.4038234 ,\n",
       "         0.40694474,  0.41006609,  0.41318743,  0.41630877,  0.41943012,\n",
       "         0.42255146,  0.4256728 ,  0.42879415,  0.43191549,  0.43503683,\n",
       "         0.43815818,  0.44127952,  0.44440086,  0.44752221,  0.45064355,\n",
       "         0.45376489,  0.45688624,  0.46000758,  0.46312892,  0.46625027,\n",
       "         0.46937161,  0.47249295,  0.4756143 ,  0.47873564,  0.48185699,\n",
       "         0.48497833,  0.48809967,  0.49122102,  0.49434236,  0.4974637 ,\n",
       "         0.50058505,  0.50370639,  0.50682773,  0.50994908,  0.51307042,\n",
       "         0.51619176,  0.51931311,  0.52243445,  0.52555579,  0.52867714,\n",
       "         0.53179848,  0.53491982,  0.53804117,  0.54116251,  0.54428385,\n",
       "         0.5474052 ,  0.55052654,  0.55364788,  0.55676923,  0.55989057,\n",
       "         0.56301192,  0.56613326,  0.5692546 ,  0.57237595,  0.57549729,\n",
       "         0.57861863,  0.58173998,  0.58486132,  0.58798266,  0.59110401,\n",
       "         0.59422535,  0.59734669,  0.60046804,  0.60358938,  0.60671072,\n",
       "         0.60983207,  0.61295341,  0.61607475,  0.6191961 ,  0.62231744,\n",
       "         0.62543878,  0.62856013,  0.63168147,  0.63480281,  0.63792416,\n",
       "         0.6410455 ,  0.64416685,  0.64728819,  0.65040953,  0.65353088,\n",
       "         0.65665222,  0.65977356,  0.66289491,  0.66601625,  0.66913759,\n",
       "         0.67225894,  0.67538028,  0.67850162,  0.68162297,  0.68474431,\n",
       "         0.68786565,  0.690987  ,  0.69410834,  0.69722968,  0.70035103,\n",
       "         0.70347237,  0.70659371,  0.70971506,  0.7128364 ,  0.71595774,\n",
       "         0.71907909,  0.72220043,  0.72532178,  0.72844312,  0.73156446,\n",
       "         0.73468581,  0.73780715,  0.74092849,  0.74404984,  0.74717118,\n",
       "         0.75029252,  0.75341387,  0.75653521,  0.75965655,  0.7627779 ,\n",
       "         0.76589924,  0.76902058,  0.77214193,  0.77526327,  0.77838461,\n",
       "         0.78150596,  0.7846273 ,  0.78774864,  0.79086999,  0.79399133,\n",
       "         0.79711267,  0.80023402,  0.80335536,  0.80647671,  0.80959805,\n",
       "         0.81271939,  0.81584074,  0.81896208,  0.82208342,  0.82520477,\n",
       "         0.82832611,  0.83144745,  0.8345688 ,  0.83769014,  0.84081148,\n",
       "         0.84393283,  0.84705417,  0.85017551,  0.85329686,  0.8564182 ,\n",
       "         0.85953954,  0.86266089,  0.86578223,  0.86890357,  0.87202492,\n",
       "         0.87514626,  0.8782676 ,  0.88138895,  0.88451029,  0.88763164,\n",
       "         0.89075298,  0.89387432,  0.89699567,  0.90011701,  0.90323835,\n",
       "         0.9063597 ,  0.90948104,  0.91260238,  0.91572373,  0.91884507,\n",
       "         0.92196641,  0.92508776,  0.9282091 ,  0.93133044,  0.93445179,\n",
       "         0.93757313,  0.94069447,  0.94381582,  0.94693716,  0.9500585 ,\n",
       "         0.95317985,  0.95630119,  0.95942253,  0.96254388,  0.96566522,\n",
       "         0.96878657,  0.97190791,  0.97502925,  0.9781506 ,  0.98127194,\n",
       "         0.98439328,  0.98751463,  0.99063597,  0.99375731,  0.99687866,  1.        ]),\n",
       " <a list of 200 Patch objects>)"
      ]
     },
     "execution_count": 140,
     "metadata": {},
     "output_type": "execute_result"
    },
    {
     "data": {
      "image/png": "[encoded data removed]",
      "text/plain": [
       "<matplotlib.figure.Figure at 0x11cd10c10>"
      ]
     },
     "metadata": {},
     "output_type": "display_data"
    }
   ],
   "source": [
    "plt.hist(sim.arm_probs.values(), 200,None)"
   ]
  },
  {
   "cell_type": "code",
   "execution_count": 141,
   "metadata": {
    "collapsed": false
   },
   "outputs": [
    {
     "ename": "NameError",
     "evalue": "name 'played' is not defined",
     "output_type": "error",
     "traceback": [
      "\u001b[0;31m---------------------------------------------------------------------------\u001b[0m",
      "\u001b[0;31mNameError\u001b[0m                                 Traceback (most recent call last)",
      "\u001b[0;32m<ipython-input-141-73f5172e8e2f>\u001b[0m in \u001b[0;36m<module>\u001b[0;34m()\u001b[0m\n\u001b[1;32m      1\u001b[0m \u001b[0mx\u001b[0m \u001b[0;34m=\u001b[0m \u001b[0mrange\u001b[0m\u001b[0;34m(\u001b[0m\u001b[0mN_ARMS\u001b[0m\u001b[0;34m)\u001b[0m\u001b[0;34m\u001b[0m\u001b[0m\n\u001b[0;32m----> 2\u001b[0;31m \u001b[0my\u001b[0m \u001b[0;34m=\u001b[0m \u001b[0mplayed\u001b[0m\u001b[0;34m[\u001b[0m\u001b[0;36m0\u001b[0m\u001b[0;34m]\u001b[0m\u001b[0;34m\u001b[0m\u001b[0m\n\u001b[0m\u001b[1;32m      3\u001b[0m \u001b[0mplt\u001b[0m\u001b[0;34m.\u001b[0m\u001b[0mplot\u001b[0m\u001b[0;34m(\u001b[0m\u001b[0mx\u001b[0m\u001b[0;34m,\u001b[0m\u001b[0my\u001b[0m\u001b[0;34m)\u001b[0m\u001b[0;34m\u001b[0m\u001b[0m\n\u001b[1;32m      4\u001b[0m \u001b[0;32mfor\u001b[0m \u001b[0mp\u001b[0m \u001b[0;32min\u001b[0m \u001b[0mplayed\u001b[0m\u001b[0;34m:\u001b[0m\u001b[0;34m\u001b[0m\u001b[0m\n\u001b[1;32m      5\u001b[0m     \u001b[0;32mprint\u001b[0m \u001b[0mp\u001b[0m\u001b[0;34m\u001b[0m\u001b[0m\n",
      "\u001b[0;31mNameError\u001b[0m: name 'played' is not defined"
     ]
    }
   ],
   "source": [
    "x = range(N_ARMS)\n",
    "y = played[0]\n",
    "plt.plot(x,y)\n",
    "for p in played:\n",
    "    print p"
   ]
  },
  {
   "cell_type": "code",
   "execution_count": null,
   "metadata": {
    "collapsed": true
   },
   "outputs": [],
   "source": []
  },
  {
   "cell_type": "code",
   "execution_count": null,
   "metadata": {
    "collapsed": true
   },
   "outputs": [],
   "source": []
  }
 ],
 "metadata": {
  "kernelspec": {
   "display_name": "Python 2",
   "language": "python",
   "name": "python2"
  },
  "language_info": {
   "codemirror_mode": {
    "name": "ipython",
    "version": 2
   },
   "file_extension": ".py",
   "mimetype": "text/x-python",
   "name": "python",
   "nbconvert_exporter": "python",
   "pygments_lexer": "ipython2",
   "version": "2.7.11"
  }
 },
 "nbformat": 4,
 "nbformat_minor": 0
}
