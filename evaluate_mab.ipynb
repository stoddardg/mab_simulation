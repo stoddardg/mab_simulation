{
 "cells": [
  {
   "cell_type": "code",
   "execution_count": 30,
   "metadata": {
    "collapsed": true
   },
   "outputs": [],
   "source": [
    "import numpy as np\n",
    "import scipy.stats\n",
    "\n",
    "import matplotlib.pyplot as plt\n",
    "\n",
    "import seaborn\n",
    "%matplotlib inline\n",
    "\n",
    "from tqdm import tqdm"
   ]
  },
  {
   "cell_type": "code",
   "execution_count": 31,
   "metadata": {
    "collapsed": false
   },
   "outputs": [],
   "source": [
    "class EGreedyMAB:\n",
    "    \n",
    "    def __init__(self, epsilon=.1):\n",
    "        self.arm_feedback = {}\n",
    "        self.arm_plays = {}\n",
    "        self.arm_mean_payoff = {}\n",
    "        self.epsilon = epsilon\n",
    "        \n",
    "        \n",
    "    def get_decision(self,arm_id_list, arm_feature_list):\n",
    "        np.random.shuffle(arm_id_list)\n",
    "        current_averages = {id: self.arm_mean_payoff.get(id,100) for id in arm_id_list}\n",
    "        \n",
    "        if np.random.rand() < self.epsilon:\n",
    "            return np.random.choice(arm_id_list)\n",
    "        else:\n",
    "            return max(current_averages, key=current_averages.get)\n",
    "    \n",
    "    def update(self, arm_id, reward):\n",
    "        self.arm_feedback[arm_id] = self.arm_feedback.get(arm_id,0) + reward\n",
    "        self.arm_plays[arm_id] = self.arm_plays.get(arm_id,0) + 1.0\n",
    "        self.arm_mean_payoff[arm_id] = self.arm_feedback[arm_id] / self.arm_plays[arm_id]"
   ]
  },
  {
   "cell_type": "code",
   "execution_count": 32,
   "metadata": {
    "collapsed": false
   },
   "outputs": [],
   "source": [
    "from numpy import *\n",
    "from scipy.stats import beta\n",
    "\n",
    "class BetaBandit(object):\n",
    "    def __init__(self, num_options=2, prior =(1,1)):\n",
    "        self.arm_plays = {}\n",
    "        self.successes = {}\n",
    "        self.num_options = num_options\n",
    "        self.prior = prior\n",
    "    \n",
    "    def update(self, arm_id, success):\n",
    "        self.arm_plays[arm_id] = self.arm_plays.get(arm_id, 0) + 1\n",
    "        if (success==1):\n",
    "            self.successes[arm_id] = self.successes.get(arm_id, 0)+1\n",
    "     \n",
    "    def get_decision(self,arm_id_list,arm_feature_list):\n",
    "        sampled_theta = []\n",
    "        for i in arm_id_list:\n",
    "            dist = beta(self.prior[0]+self.successes.get(i, 0),\n",
    "                       self.prior[1]+self.arm_plays.get(i,0)-self.successes.get(i,0))\n",
    "            sampled_theta += [dist.rvs()]\n",
    "        return sampled_theta.index(max(sampled_theta))   \n",
    "        "
   ]
  },
  {
   "cell_type": "code",
   "execution_count": 33,
   "metadata": {
    "collapsed": true
   },
   "outputs": [],
   "source": [
    "import sys\n",
    "# Scales the arm_probs to all be between 0 and 1.\n",
    "# The highest pre-scaled value is assigned a value of 1.\n",
    "# Probs is a dictionary\n",
    "def scale(probs):\n",
    "    # min_int\n",
    "    biggest = - sys.maxint - 1\n",
    "\n",
    "    for i in range(len(probs)):\n",
    "        if abs(probs[i]) > biggest:\n",
    "            biggest = abs(probs[i])\n",
    "    biggest = biggest * 2\n",
    "    for i in range(len(probs)):\n",
    "        probs[i] = probs[i] / biggest + .5\n",
    "    return probs\n",
    "    "
   ]
  },
  {
   "cell_type": "code",
   "execution_count": 34,
   "metadata": {
    "collapsed": true
   },
   "outputs": [],
   "source": [
    "class UCB():\n",
    "    def __init__(self):\n",
    "        self.arm_plays = {}\n",
    "        self.arm_rewards = {}\n",
    "        self.total_plays = 1\n",
    "    \n",
    "    def get_decision(self,arm_id_list,arm_feature_list):\n",
    "        ucb_values = {}\n",
    "        for arm in arm_id_list:\n",
    "            bonus = math.sqrt((2*math.log(self.total_plays))/float(self.arm_plays.get(arm, 1)))\n",
    "            ucb_values[arm] = (self.arm_rewards.get(arm, 0)/self.arm_plays.get(arm, 1)) + bonus\n",
    "        return max(ucb_values, key=ucb_values.get)\n",
    "    \n",
    "    def update(self, arm_id, reward):\n",
    "        self.total_plays += 1\n",
    "        \n",
    "        self.arm_plays[arm_id] = 1 + self.arm_plays.get(arm_id,0)\n",
    "        self.arm_rewards[arm_id] = reward + self.arm_rewards.get(arm_id, 0)\n",
    "        "
   ]
  },
  {
   "cell_type": "code",
   "execution_count": 35,
   "metadata": {
    "collapsed": false
   },
   "outputs": [],
   "source": [
    "import numpy as np\n",
    "\n",
    "class SimpleSimulator:\n",
    "    \n",
    "    def __init__(self,n_arms,loc_value, scale_value):\n",
    "        self.arm_probs = {}\n",
    "        temp_val_list = []\n",
    "        scaled_vals = []\n",
    "        for i in range(0, n_arms):\n",
    "            temp_val = np.random.normal(loc=loc_value, scale = scale_value)\n",
    "            temp_val_list.append(temp_val)\n",
    "        scaled_vals = scale(temp_val_list)\n",
    "        for i in range(0,n_arms):\n",
    "            self.arm_probs[i] = scaled_vals[i]\n",
    "    \n",
    "    def get_available_arms(self):\n",
    "        return self.arm_probs.keys(), []\n",
    "    \n",
    "    def get_reward(self, arm_id):\n",
    "        return scipy.stats.bernoulli.rvs(self.arm_probs.get(arm_id,0))\n",
    "    "
   ]
  },
  {
   "cell_type": "code",
   "execution_count": 36,
   "metadata": {
    "collapsed": false
   },
   "outputs": [],
   "source": [
    "s1 = SimpleSimulator(10,4,2)\n",
    "s2 = SimpleSimulator(5,3, 4)"
   ]
  },
  {
   "cell_type": "code",
   "execution_count": 37,
   "metadata": {
    "collapsed": false
   },
   "outputs": [
    {
     "data": {
      "text/plain": [
       "{0: 0.557233484049002,\n",
       " 1: 0.8183152050222962,\n",
       " 2: 1.0,\n",
       " 3: 0.6491266434818849,\n",
       " 4: 0.6887845265542252,\n",
       " 5: 0.6309397466685045,\n",
       " 6: 0.7762326320124648,\n",
       " 7: 0.7098761575951313,\n",
       " 8: 0.8186979703419583,\n",
       " 9: 0.6958813483870516}"
      ]
     },
     "execution_count": 37,
     "metadata": {},
     "output_type": "execute_result"
    }
   ],
   "source": [
    "s1.arm_probs"
   ]
  },
  {
   "cell_type": "code",
   "execution_count": 38,
   "metadata": {
    "collapsed": false
   },
   "outputs": [
    {
     "data": {
      "text/plain": [
       "{0: 0.9922027198360098,\n",
       " 1: 0.7665112562575431,\n",
       " 2: 0.3400535523215789,\n",
       " 3: 1.0,\n",
       " 4: 0.8340083599806161}"
      ]
     },
     "execution_count": 38,
     "metadata": {},
     "output_type": "execute_result"
    }
   ],
   "source": [
    "s2.arm_probs"
   ]
  },
  {
   "cell_type": "code",
   "execution_count": 39,
   "metadata": {
    "collapsed": false
   },
   "outputs": [
    {
     "name": "stderr",
     "output_type": "stream",
     "text": [
      "100%|██████████| 5000/5000 [00:40<00:00, 123.14it/s]"
     ]
    },
    {
     "name": "stdout",
     "output_type": "stream",
     "text": [
      "total_reward 4939\n",
      "average_reward 0.9878\n",
      "total_reward 4506\n",
      "average_reward 0.9012\n",
      "total_reward 4979\n",
      "average_reward 0.9958\n",
      "best possible 1.0\n"
     ]
    },
    {
     "name": "stderr",
     "output_type": "stream",
     "text": [
      "\n"
     ]
    }
   ],
   "source": [
    "TIME_STEPS = 5000\n",
    "N_ARMS = 10\n",
    "# Arms, Mean, Standard Deviation\n",
    "sim = SimpleSimulator(N_ARMS, .5, .1)\n",
    "\n",
    "mab = EGreedyMAB()\n",
    "reward_list = []\n",
    "played = [[0 for i in range(N_ARMS)] for i in range(3)]\n",
    "\n",
    "sim = SimpleSimulator(N_ARMS, .5, .1)\n",
    "\n",
    "mab_3 = UCB()\n",
    "reward_list_3 = []\n",
    "\n",
    "mab_2 = BetaBandit()\n",
    "reward_list_2 = []\n",
    "\n",
    "mab_1 = EGreedyMAB()\n",
    "reward_list_1 = []\n",
    "\n",
    "reward_list_of_lists = [reward_list_1, reward_list_2, reward_list_3]\n",
    "mab_list_of_mabs = [mab_1, mab_2, mab_3]\n",
    "\n",
    "for t in tqdm(np.arange(TIME_STEPS)):\n",
    "    arms, arm_features = sim.get_available_arms()\n",
    "\n",
    "    for i in range(len(mab_list_of_mabs)):\n",
    "        mab = mab_list_of_mabs[i]\n",
    "        reward_list = reward_list_of_lists[i]\n",
    "        arm_to_play = mab.get_decision(arms, arm_features)\n",
    "\n",
    "        played[i][arm_to_play] += 1\n",
    "        \n",
    "        reward = sim.get_reward(arm_to_play)\n",
    "        mab.update(arm_to_play, reward)\n",
    "        reward_list.append(reward)\n",
    "    \n",
    "    #for reward_list in reward_list_of_lists:\n",
    "       # reward_list.append(reward)\n",
    "        \n",
    "for reward in reward_list_of_lists:\n",
    "    print 'total_reward', np.sum(reward)\n",
    "    print 'average_reward', np.mean(reward)\n",
    "\n",
    "\n",
    "max_payoff = max(sim.arm_probs.values())\n",
    "print 'best possible', max_payoff \n",
    "\n"
   ]
  },
  {
   "cell_type": "code",
   "execution_count": 40,
   "metadata": {
    "collapsed": false
   },
   "outputs": [
    {
     "data": {
      "text/plain": [
       "<matplotlib.text.Text at 0x1190b9dd0>"
      ]
     },
     "execution_count": 40,
     "metadata": {},
     "output_type": "execute_result"
    },
    {
     "data": {
      "image/png": "[encoded data removed]",
      "text/plain": [
       "<matplotlib.figure.Figure at 0x11c5b8c90>"
      ]
     },
     "metadata": {},
     "output_type": "display_data"
    }
   ],
   "source": [
    "max_payoff = max(sim.arm_probs.values())\n",
    "\n",
    "plt.plot(np.arange(len(reward_list_1)), np.cumsum(reward_list_1)/np.arange(1,TIME_STEPS+1.0), label = 'EGreedy')\n",
    "\n",
    "plt.plot(np.arange(len(reward_list_2)), np.cumsum(reward_list_2)/np.arange(1,TIME_STEPS+1.0), label='Beta Bandit')\n",
    "\n",
    "plt.plot(np.arange(len(reward_list_3)), np.cumsum(reward_list_3)/np.arange(1,TIME_STEPS+1.0), label = 'UCB')\n",
    "\n",
    "plt.plot(np.arange(TIME_STEPS), np.cumsum([max_payoff]*TIME_STEPS)/ np.arange(1,TIME_STEPS+1.0), label='OPT', ls='--')\n",
    "\n",
    "plt.legend(loc='lower right')\n",
    "\n",
    "plt.xlabel(\"Time Step\", fontsize=14)\n",
    "\n",
    "plt.ylabel(\"Cumulative Reward\", fontsize=14)\n"
   ]
  },
  {
   "cell_type": "code",
   "execution_count": 41,
   "metadata": {
    "collapsed": false
   },
   "outputs": [
    {
     "data": {
      "text/plain": [
       "0.31858703346584316"
      ]
     },
     "execution_count": 41,
     "metadata": {},
     "output_type": "execute_result"
    }
   ],
   "source": [
    "np.random.rand()"
   ]
  },
  {
   "cell_type": "code",
   "execution_count": 42,
   "metadata": {
    "collapsed": false
   },
   "outputs": [],
   "source": [
    "#plt.hist(sim.arm_probs.values(), 200,None)"
   ]
  },
  {
   "cell_type": "code",
   "execution_count": 43,
   "metadata": {
    "collapsed": false,
    "scrolled": true
   },
   "outputs": [
    {
     "name": "stdout",
     "output_type": "stream",
     "text": [
      "[56, 59, 52, 68, 49, 50, 57, 4500, 57, 52]\n",
      "[498, 496, 493, 473, 501, 514, 530, 518, 473, 504]\n",
      "[30, 16, 16, 16, 16, 16, 16, 4842, 16, 16]\n"
     ]
    },
    {
     "data": {
      "image/png": "[encoded data removed]",
      "text/plain": [
       "<matplotlib.figure.Figure at 0x11c58f090>"
      ]
     },
     "metadata": {},
     "output_type": "display_data"
    }
   ],
   "source": [
    "x = range(N_ARMS)\n",
    "y = played[0]\n",
    "plt.plot(x,y)\n",
    "for p in played:\n",
    "    print p"
   ]
  },
  {
   "cell_type": "code",
   "execution_count": null,
   "metadata": {
    "collapsed": true
   },
   "outputs": [],
   "source": []
  },
  {
   "cell_type": "code",
   "execution_count": null,
   "metadata": {
    "collapsed": true
   },
   "outputs": [],
   "source": []
  },
  {
   "cell_type": "code",
   "execution_count": null,
   "metadata": {
    "collapsed": true
   },
   "outputs": [],
   "source": []
  }
 ],
 "metadata": {
  "kernelspec": {
   "display_name": "Python 2",
   "language": "python",
   "name": "python2"
  },
  "language_info": {
   "codemirror_mode": {
    "name": "ipython",
    "version": 2
   },
   "file_extension": ".py",
   "mimetype": "text/x-python",
   "name": "python",
   "nbconvert_exporter": "python",
   "pygments_lexer": "ipython2",
   "version": "2.7.11"
  }
 },
 "nbformat": 4,
 "nbformat_minor": 0
}
