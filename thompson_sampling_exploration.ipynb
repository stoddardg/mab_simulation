{
 "cells": [
  {
   "cell_type": "code",
   "execution_count": 1,
   "metadata": {
    "collapsed": true
   },
   "outputs": [],
   "source": [
    "import numpy as np\n",
    "import scipy.stats \n",
    "import seaborn\n",
    "%matplotlib inline\n",
    "\n",
    "import matplotlib.pyplot as plt"
   ]
  },
  {
   "cell_type": "code",
   "execution_count": 61,
   "metadata": {
    "collapsed": false
   },
   "outputs": [
    {
     "data": {
      "text/plain": [
       "(0, 1)"
      ]
     },
     "execution_count": 61,
     "metadata": {},
     "output_type": "execute_result"
    },
    {
     "data": {
      "image/png": "[encoded data removed]",
      "text/plain": [
       "<matplotlib.figure.Figure at 0x1143b5a90>"
      ]
     },
     "metadata": {},
     "output_type": "display_data"
    }
   ],
   "source": [
    "real_p = .7\n",
    "prior_confidence = 1\n",
    "alpha = 1*prior_confidence\n",
    "beta = 1*prior_confidence\n",
    "prior_dist = scipy.stats.beta(alpha,beta)\n",
    "\n",
    "real_dist = scipy.stats.bernoulli(real_p)\n",
    "plt.hist(prior_dist.rvs(size=10000), alpha=.4, color='blue')\n",
    "\n",
    "# plt.hist(real_dist.rvs(size=10000), alpha=.4, color='red')\n",
    "\n",
    "\n",
    "plt.xlim(0,1)"
   ]
  },
  {
   "cell_type": "markdown",
   "metadata": {},
   "source": [
    "## Simulate bayesian updates"
   ]
  },
  {
   "cell_type": "code",
   "execution_count": 69,
   "metadata": {
    "collapsed": false
   },
   "outputs": [
    {
     "data": {
      "text/plain": [
       "(0, 1)"
      ]
     },
     "execution_count": 69,
     "metadata": {},
     "output_type": "execute_result"
    },
    {
     "data": {
      "image/png": "[encoded data removed]",
      "text/plain": [
       "<matplotlib.figure.Figure at 0x113e96890>"
      ]
     },
     "metadata": {},
     "output_type": "display_data"
    }
   ],
   "source": [
    "n_draws = 10\n",
    "\n",
    "samples = real_dist.rvs(size=n_draws)\n",
    "\n",
    "n_successes = np.sum(samples)\n",
    "n_fails = n_draws - n_successes\n",
    "\n",
    "posterior_dist = scipy.stats.beta(alpha+n_successes, beta+n_fails)\n",
    "\n",
    "                                  \n",
    "# plt.hist(prior_dist.rvs(size=10000), alpha=.4, color='blue')\n",
    "\n",
    "# plt.hist(real_dist.rvs(size=10000), alpha=.4, color='red')\n",
    "plt.hist(posterior_dist.rvs(size=10000), alpha=.4, color='red')\n",
    "\n",
    "\n",
    "plt.xlim(0,1)                             "
   ]
  },
  {
   "cell_type": "code",
   "execution_count": 33,
   "metadata": {
    "collapsed": false
   },
   "outputs": [
    {
     "data": {
      "text/plain": [
       "(array([  15.,   41.,   74.,  160.,  211.,  198.,  150.,   94.,   46.,   11.]),\n",
       " array([ 0.54805806,  0.6187566 ,  0.68945515,  0.76015369,  0.83085223,\n",
       "         0.90155078,  0.97224932,  1.04294787,  1.11364641,  1.18434495,\n",
       "         1.2550435 ]),\n",
       " <a list of 10 Patch objects>)"
      ]
     },
     "execution_count": 33,
     "metadata": {},
     "output_type": "execute_result"
    },
    {
     "data": {
      "image/png": "[encoded data removed]",
      "text/plain": [
       "<matplotlib.figure.Figure at 0x1143cd710>"
      ]
     },
     "metadata": {},
     "output_type": "display_data"
    }
   ],
   "source": [
    "mean_payoff = .4\n",
    "dist = scipy.stats.uniform(mean_payoff)\n",
    "\n",
    "mean_estimates = []\n",
    "for i in np.arange(1000):\n",
    "    draws = dist.rvs(size=5)\n",
    "#     print draws\n",
    "    rv_estimate = np.mean(draws)\n",
    "\n",
    "    mean_estimates.append(rv_estimate)\n",
    "\n",
    "# print mean_estimates\n",
    "plt.hist(mean_estimates, alpha=.3)"
   ]
  },
  {
   "cell_type": "code",
   "execution_count": null,
   "metadata": {
    "collapsed": true
   },
   "outputs": [],
   "source": []
  },
  {
   "cell_type": "code",
   "execution_count": null,
   "metadata": {
    "collapsed": true
   },
   "outputs": [],
   "source": []
  },
  {
   "cell_type": "code",
   "execution_count": 26,
   "metadata": {
    "collapsed": false
   },
   "outputs": [],
   "source": [
    "for t in np.arange(1):\n",
    "    #decide\n",
    "    v_1 = dist_1.rvs()\n",
    "    v_2 = dist_2.rvs()\n",
    "    \n",
    "    sampled_theta = [v_1,v_2]\n",
    "    \n",
    "    decision =  sampled_theta.index(max(sampled_theta))\n",
    "\n",
    "    \n",
    "    \n",
    "#     #update "
   ]
  },
  {
   "cell_type": "code",
   "execution_count": 28,
   "metadata": {
    "collapsed": false
   },
   "outputs": [
    {
     "data": {
      "text/plain": [
       "[0.9868400633022535, 0.5831526187402117]"
      ]
     },
     "execution_count": 28,
     "metadata": {},
     "output_type": "execute_result"
    }
   ],
   "source": [
    "sampled_theta"
   ]
  },
  {
   "cell_type": "code",
   "execution_count": 29,
   "metadata": {
    "collapsed": false
   },
   "outputs": [
    {
     "data": {
      "text/plain": [
       "0.9868400633022535"
      ]
     },
     "execution_count": 29,
     "metadata": {},
     "output_type": "execute_result"
    }
   ],
   "source": [
    "max(sampled_theta)"
   ]
  },
  {
   "cell_type": "code",
   "execution_count": 30,
   "metadata": {
    "collapsed": false
   },
   "outputs": [
    {
     "data": {
      "text/plain": [
       "0"
      ]
     },
     "execution_count": 30,
     "metadata": {},
     "output_type": "execute_result"
    }
   ],
   "source": [
    "sampled_theta.index(max(sampled_theta))"
   ]
  },
  {
   "cell_type": "code",
   "execution_count": null,
   "metadata": {
    "collapsed": true
   },
   "outputs": [],
   "source": []
  }
 ],
 "metadata": {
  "kernelspec": {
   "display_name": "Python 2",
   "language": "python",
   "name": "python2"
  },
  "language_info": {
   "codemirror_mode": {
    "name": "ipython",
    "version": 2
   },
   "file_extension": ".py",
   "mimetype": "text/x-python",
   "name": "python",
   "nbconvert_exporter": "python",
   "pygments_lexer": "ipython2",
   "version": "2.7.11"
  }
 },
 "nbformat": 4,
 "nbformat_minor": 0
}
